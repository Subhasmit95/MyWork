{
 "cells": [
  {
   "cell_type": "markdown",
   "id": "5ef098e1",
   "metadata": {},
   "source": [
    "# Simple Linklist"
   ]
  },
  {
   "cell_type": "code",
   "execution_count": 49,
   "id": "557d3f67",
   "metadata": {},
   "outputs": [],
   "source": [
    "# The node the structural unit of the Linklist\n",
    "class node:\n",
    "   \n",
    "    def __init__(self,data,tail):\n",
    "        self.data = data\n",
    "        self.tail = None\n"
   ]
  },
  {
   "cell_type": "code",
   "execution_count": 50,
   "id": "e28c9da1",
   "metadata": {},
   "outputs": [],
   "source": [
    "# The link List\n",
    "\n",
    "class linklist:\n",
    "    def __init__(self, head):\n",
    "        self.head = None\n",
    "    #For Inserting data to the end   \n",
    "    def insert(self,item):\n",
    "        newnode=node(item,None)\n",
    "        if self.head == None:\n",
    "            self.head=newnode\n",
    "        elif self.head != None and self.head.tail==None:\n",
    "            self.head.tail=newnode\n",
    "        else:\n",
    "            cur=self.head\n",
    "            while cur.tail != None:\n",
    "                cur=cur.tail\n",
    "            Newnode=node(item,None)\n",
    "            cur.tail=Newnode\n",
    "         \n",
    "        \n",
    "    def printlink(self):\n",
    "        cur=self.head\n",
    "        if self.head==None:\n",
    "            print(\"None create the linklist\")\n",
    "        elif self.head != None and self.head.tail==None:\n",
    "            print(cur.data)\n",
    "        else:  \n",
    "            while cur.tail != None:\n",
    "                print(cur.data)\n",
    "                cur=cur.tail\n",
    "            \n",
    "            print(cur.data,cur.tail)"
   ]
  },
  {
   "cell_type": "code",
   "execution_count": 51,
   "id": "56ef1b88",
   "metadata": {},
   "outputs": [
    {
     "name": "stdout",
     "output_type": "stream",
     "text": [
      "4\n",
      "6 None\n",
      "4\n",
      "6 None\n",
      "4\n",
      "6 None\n",
      "4\n",
      "6 None\n",
      "4\n",
      "6 None\n",
      "4\n",
      "6 None\n",
      "4\n",
      "6 None\n",
      "4\n",
      "6 None\n",
      "4\n",
      "6 None\n",
      "4\n",
      "6 None\n"
     ]
    }
   ],
   "source": [
    "#Let Play with the Linklist\n",
    "l=linklist(None)\n",
    "\n",
    "l.insert(4)\n",
    "\n",
    "\n",
    "l.insert(6)\n",
    "count=0\n",
    "\n",
    "while count < 10:\n",
    "    \n",
    "    l.printlink()\n",
    "    count=count+1"
   ]
  },
  {
   "cell_type": "code",
   "execution_count": null,
   "id": "c9ed8334",
   "metadata": {},
   "outputs": [],
   "source": []
  },
  {
   "cell_type": "markdown",
   "id": "59c276b5",
   "metadata": {},
   "source": [
    "# Reverse polish notation"
   ]
  },
  {
   "cell_type": "code",
   "execution_count": 9,
   "id": "2533a062",
   "metadata": {},
   "outputs": [],
   "source": [
    "#lets Play with reverse polish notation\n",
    "op=[\"+\",\"-\",\"*\",\"/\"]\n",
    "tokens = [\"4\",\"13\",\"5\",\"/\",\"+\"]\n"
   ]
  },
  {
   "cell_type": "code",
   "execution_count": 10,
   "id": "12e25ca0",
   "metadata": {},
   "outputs": [],
   "source": [
    "def cal(x,y,op):\n",
    "    if op==\"+\":\n",
    "        return int(y)+int(x)\n",
    "    if op==\"-\":\n",
    "        return int(y)-int(x)\n",
    "    if op==\"*\":\n",
    "        return int(y)*int(x)\n",
    "    if op==\"/\":\n",
    "        return int(y)/int(x)"
   ]
  },
  {
   "cell_type": "code",
   "execution_count": 11,
   "id": "89d89903",
   "metadata": {},
   "outputs": [
    {
     "name": "stdout",
     "output_type": "stream",
     "text": [
      "['4', '13', '5', '/', '+']\n",
      "['4', '13', '5', '/', '+']\n",
      "['4', '13', '5', '/', '+']\n",
      "2.6\n",
      "['4', 2.6, '+']\n",
      "['4', 2.6, '+']\n",
      "6\n"
     ]
    }
   ],
   "source": [
    "val=0\n",
    "temp_tok=[]\n",
    "while len(tokens) != 1:\n",
    "    for i in range(len(tokens)):\n",
    "        x=0\n",
    "        y=0\n",
    "       \n",
    "        if tokens[i] in op:\n",
    "            x=int(tokens[i-1])\n",
    "            y=int(tokens[i-2])\n",
    "            val=cal(x,y,tokens[i])\n",
    "            tokens[i-2]=val\n",
    "            \n",
    "            del tokens[i-1:i+1]\n",
    "            print(val)\n",
    "            break\n",
    "           \n",
    "        print(tokens)"
   ]
  },
  {
   "cell_type": "markdown",
   "id": "23391142",
   "metadata": {},
   "source": [
    "# Circular Linklist"
   ]
  },
  {
   "cell_type": "code",
   "execution_count": 53,
   "id": "97951c6f",
   "metadata": {},
   "outputs": [],
   "source": [
    "class node:\n",
    "   \n",
    "    def __init__(self,data,tail=None):\n",
    "        self.data = data\n",
    "        self.tail = tail"
   ]
  },
  {
   "cell_type": "code",
   "execution_count": 54,
   "id": "6d66b1b5",
   "metadata": {},
   "outputs": [],
   "source": [
    "class linklist:\n",
    "    def __init__(self, head=None):\n",
    "        self.head = head\n",
    "    #For Inserting data to the end   \n",
    "    def insert(self,item):\n",
    "        \n",
    "        if self.head == None:\n",
    "            newnode=node(item,None)\n",
    "            self.head=newnode\n",
    "            self.head.tail=self.head\n",
    "        \n",
    "        else:\n",
    "            newnode=node(item,self.head)\n",
    "            cur=self.head\n",
    "            while cur.tail != self.head:\n",
    "                cur=cur.tail\n",
    "                \n",
    "            \n",
    "            cur.tail=newnode\n",
    "            \n",
    "            \n",
    "            \n",
    "         \n",
    "        \n",
    "    def printlink(self):\n",
    "        cur=self.head\n",
    "        if self.head==None:\n",
    "            print(\"None create the linklist\")\n",
    "        \n",
    "            \n",
    "        else: \n",
    "           \n",
    "            while cur.tail != self.head:\n",
    "                print(cur.data)\n",
    "                cur=cur.tail\n",
    "            \n",
    "            print(cur.data,cur.tail.data) "
   ]
  },
  {
   "cell_type": "code",
   "execution_count": 55,
   "id": "365d962d",
   "metadata": {},
   "outputs": [
    {
     "name": "stdout",
     "output_type": "stream",
     "text": [
      "None create the linklist\n",
      "4\n",
      "6\n",
      "7\n",
      "8 4\n"
     ]
    }
   ],
   "source": [
    "l=linklist(None)\n",
    "l.printlink()\n",
    "l.insert(4)\n",
    "l.insert(6)\n",
    "l.insert(7)\n",
    "l.insert(8)\n",
    "count=0\n",
    "l.printlink()\n",
    "# print()\n",
    "\n",
    "# # while count < 10:\n",
    "    \n",
    "# #     l.printlink()\n",
    "# #     count=count+1"
   ]
  }
 ],
 "metadata": {
  "kernelspec": {
   "display_name": "Python 3 (ipykernel)",
   "language": "python",
   "name": "python3"
  },
  "language_info": {
   "codemirror_mode": {
    "name": "ipython",
    "version": 3
   },
   "file_extension": ".py",
   "mimetype": "text/x-python",
   "name": "python",
   "nbconvert_exporter": "python",
   "pygments_lexer": "ipython3",
   "version": "3.10.6"
  }
 },
 "nbformat": 4,
 "nbformat_minor": 5
}
